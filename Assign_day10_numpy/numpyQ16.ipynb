{
 "cells": [
  {
   "cell_type": "code",
   "execution_count": 1,
   "id": "dbaf7bb3-8353-42ec-af25-8cfed9406063",
   "metadata": {},
   "outputs": [],
   "source": [
    "import numpy as np"
   ]
  },
  {
   "cell_type": "code",
   "execution_count": 4,
   "id": "9c3597f7-2a94-438a-8b43-bc148fe5482c",
   "metadata": {},
   "outputs": [],
   "source": [
    "n1 = np.random.random((3,3,3))"
   ]
  },
  {
   "cell_type": "code",
   "execution_count": 5,
   "id": "3f2f392b-3498-4ed5-8e5e-38eace4bb2a9",
   "metadata": {},
   "outputs": [
    {
     "name": "stdout",
     "output_type": "stream",
     "text": [
      "[[[5.88156847e-01 8.29396562e-01 2.44217978e-01]\n",
      "  [4.10266228e-01 9.67208939e-01 5.55922757e-01]\n",
      "  [7.09538613e-02 6.88888318e-01 9.80052998e-01]]\n",
      "\n",
      " [[7.62816988e-01 2.40255192e-04 9.57167210e-01]\n",
      "  [1.08356765e-01 3.05571333e-01 7.83166367e-01]\n",
      "  [9.13171426e-01 7.32827442e-01 8.70959699e-01]]\n",
      "\n",
      " [[6.16249728e-01 4.59494629e-01 1.84257140e-01]\n",
      "  [6.09537806e-01 3.21038803e-01 3.82033650e-01]\n",
      "  [5.80692364e-01 4.48080216e-01 2.82312425e-01]]]\n"
     ]
    }
   ],
   "source": [
    "print(n1)"
   ]
  },
  {
   "cell_type": "code",
   "execution_count": null,
   "id": "3a7e9fe7-076d-48ed-ab3c-7c82952f06dd",
   "metadata": {},
   "outputs": [],
   "source": []
  }
 ],
 "metadata": {
  "kernelspec": {
   "display_name": "Python 3 (ipykernel)",
   "language": "python",
   "name": "python3"
  },
  "language_info": {
   "codemirror_mode": {
    "name": "ipython",
    "version": 3
   },
   "file_extension": ".py",
   "mimetype": "text/x-python",
   "name": "python",
   "nbconvert_exporter": "python",
   "pygments_lexer": "ipython3",
   "version": "3.10.12"
  }
 },
 "nbformat": 4,
 "nbformat_minor": 5
}
