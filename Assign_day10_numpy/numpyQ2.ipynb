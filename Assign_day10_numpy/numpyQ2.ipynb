{
 "cells": [
  {
   "cell_type": "code",
   "execution_count": 1,
   "id": "bf0d3f1a-67ab-4577-bd76-a9a89d3949c2",
   "metadata": {},
   "outputs": [],
   "source": [
    "import numpy as np"
   ]
  },
  {
   "cell_type": "code",
   "execution_count": 2,
   "id": "cb84d9f5-a60a-4173-ac4a-a8c4cdf43bce",
   "metadata": {},
   "outputs": [
    {
     "name": "stdout",
     "output_type": "stream",
     "text": [
      "[1 4]\n",
      "[1 2]\n"
     ]
    }
   ],
   "source": [
    "n1 = np.array([1,4])\n",
    "print(n1)\n",
    "n2 = np.array([1,2])\n",
    "print(n2)"
   ]
  },
  {
   "cell_type": "code",
   "execution_count": 3,
   "id": "db8d0baa-de69-47b7-a11d-5c5c2e95b8e9",
   "metadata": {},
   "outputs": [
    {
     "name": "stdout",
     "output_type": "stream",
     "text": [
      "greater\n",
      "[False  True]\n"
     ]
    }
   ],
   "source": [
    "print(\"greater\")\n",
    "n1 = np.greater(n1,n2)\n",
    "print(n1)"
   ]
  },
  {
   "cell_type": "code",
   "execution_count": 4,
   "id": "1bef755b-e734-48f4-b054-2c10a99ea9a9",
   "metadata": {},
   "outputs": [
    {
     "name": "stdout",
     "output_type": "stream",
     "text": [
      "greater_equal\n",
      "[False False]\n"
     ]
    }
   ],
   "source": [
    "print(\"greater_equal\")\n",
    "n1 = np.greater_equal(n1,n2)\n",
    "print(n1)"
   ]
  },
  {
   "cell_type": "code",
   "execution_count": 6,
   "id": "7c33ca5f-1099-422f-894b-dfdc88f2ab25",
   "metadata": {},
   "outputs": [
    {
     "name": "stdout",
     "output_type": "stream",
     "text": [
      "less\n",
      "[False  True]\n"
     ]
    }
   ],
   "source": [
    "print(\"less\")\n",
    "n1 = np.less(n1,n2)\n",
    "print(n1)"
   ]
  },
  {
   "cell_type": "code",
   "execution_count": null,
   "id": "513b1899-a9f5-456f-9585-0d93c9dba4f6",
   "metadata": {},
   "outputs": [],
   "source": []
  }
 ],
 "metadata": {
  "kernelspec": {
   "display_name": "Python 3 (ipykernel)",
   "language": "python",
   "name": "python3"
  },
  "language_info": {
   "codemirror_mode": {
    "name": "ipython",
    "version": 3
   },
   "file_extension": ".py",
   "mimetype": "text/x-python",
   "name": "python",
   "nbconvert_exporter": "python",
   "pygments_lexer": "ipython3",
   "version": "3.10.12"
  }
 },
 "nbformat": 4,
 "nbformat_minor": 5
}
