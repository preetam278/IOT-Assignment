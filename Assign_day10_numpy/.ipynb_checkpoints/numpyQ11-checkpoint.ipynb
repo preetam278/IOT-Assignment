{
 "cells": [
  {
   "cell_type": "code",
   "execution_count": 1,
   "id": "0d6f8769-d24a-4283-9ae3-f886a48e3e8a",
   "metadata": {},
   "outputs": [],
   "source": [
    "import numpy as np"
   ]
  },
  {
   "cell_type": "code",
   "execution_count": 3,
   "id": "b2b128b0-2fcc-4920-bbb1-76ca5071da65",
   "metadata": {},
   "outputs": [
    {
     "name": "stdout",
     "output_type": "stream",
     "text": [
      "Addition 24\n",
      "Subtraction: 12\n",
      "Multiplication: 108\n",
      "Division 3.0\n"
     ]
    }
   ],
   "source": [
    "a = 18\n",
    "b = 6\n",
    "print(\"Addition\", a+b)\n",
    "print(\"Subtraction:\",a-b)\n",
    "print(\"Multiplication:\",a*b)\n",
    "print(\"Division\",a/b)"
   ]
  },
  {
   "cell_type": "code",
   "execution_count": null,
   "id": "432747e6-d38b-4686-be1e-3258cc8e960e",
   "metadata": {},
   "outputs": [],
   "source": []
  }
 ],
 "metadata": {
  "kernelspec": {
   "display_name": "Python 3 (ipykernel)",
   "language": "python",
   "name": "python3"
  },
  "language_info": {
   "codemirror_mode": {
    "name": "ipython",
    "version": 3
   },
   "file_extension": ".py",
   "mimetype": "text/x-python",
   "name": "python",
   "nbconvert_exporter": "python",
   "pygments_lexer": "ipython3",
   "version": "3.10.12"
  }
 },
 "nbformat": 4,
 "nbformat_minor": 5
}
