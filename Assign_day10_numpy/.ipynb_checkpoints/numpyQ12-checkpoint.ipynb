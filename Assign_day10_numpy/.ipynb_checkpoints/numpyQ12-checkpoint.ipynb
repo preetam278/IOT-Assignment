{
 "cells": [
  {
   "cell_type": "code",
   "execution_count": 1,
   "id": "6030a3a0-50a3-477c-89a8-d9b94cb631eb",
   "metadata": {},
   "outputs": [],
   "source": [
    "import numpy as np"
   ]
  },
  {
   "cell_type": "code",
   "execution_count": 2,
   "id": "ff6afa66-5786-49d9-8a72-d7b0991bd590",
   "metadata": {},
   "outputs": [
    {
     "name": "stdout",
     "output_type": "stream",
     "text": [
      "[10 11 12 13 14 15 16 17 18 19 20]\n"
     ]
    }
   ],
   "source": [
    "n1 = np.arange(10,21)\n",
    "print(n1)"
   ]
  },
  {
   "cell_type": "code",
   "execution_count": 3,
   "id": "ace40281-6c90-4aa1-8990-1cc36e654ed3",
   "metadata": {},
   "outputs": [
    {
     "name": "stdout",
     "output_type": "stream",
     "text": [
      "[[10 11 12 13]\n",
      " [14 15 16 17]\n",
      " [18 19 20  0]]\n"
     ]
    }
   ],
   "source": [
    "n1 = np.array([10,11,12,13,14,15,16,17,18,19,20,0])\n",
    "n1 = n1.reshape([3,4])\n",
    "print(n1)"
   ]
  },
  {
   "cell_type": "code",
   "execution_count": null,
   "id": "edf854f1-5424-4d60-9e36-c84fe05c893b",
   "metadata": {},
   "outputs": [],
   "source": []
  }
 ],
 "metadata": {
  "kernelspec": {
   "display_name": "Python 3 (ipykernel)",
   "language": "python",
   "name": "python3"
  },
  "language_info": {
   "codemirror_mode": {
    "name": "ipython",
    "version": 3
   },
   "file_extension": ".py",
   "mimetype": "text/x-python",
   "name": "python",
   "nbconvert_exporter": "python",
   "pygments_lexer": "ipython3",
   "version": "3.10.12"
  }
 },
 "nbformat": 4,
 "nbformat_minor": 5
}
