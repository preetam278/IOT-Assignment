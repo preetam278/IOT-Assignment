{
 "cells": [
  {
   "cell_type": "code",
   "execution_count": 1,
   "id": "db838e90-7126-46c4-be10-6071a4630dbc",
   "metadata": {},
   "outputs": [],
   "source": [
    "import numpy as np"
   ]
  },
  {
   "cell_type": "code",
   "execution_count": 3,
   "id": "7a0d10f8-0f10-4355-9b22-f70e5c0b6291",
   "metadata": {},
   "outputs": [
    {
     "name": "stdout",
     "output_type": "stream",
     "text": [
      "[0. 0. 0. 0. 0. 0. 0. 0. 0. 0.]\n"
     ]
    }
   ],
   "source": [
    "arr1 = np.zeros(10)\n",
    "print(arr1)"
   ]
  },
  {
   "cell_type": "code",
   "execution_count": 5,
   "id": "5b3fb9c8-f27f-4e49-9923-65fbf4d0dce8",
   "metadata": {},
   "outputs": [
    {
     "name": "stdout",
     "output_type": "stream",
     "text": [
      "[1. 1. 1. 1. 1. 1. 1. 1. 1. 1.]\n"
     ]
    }
   ],
   "source": [
    "arr2 = np.ones(10)\n",
    "print(arr2)"
   ]
  },
  {
   "cell_type": "code",
   "execution_count": 6,
   "id": "ccdee305-dc66-4892-bdaa-540c2f8c51b2",
   "metadata": {},
   "outputs": [
    {
     "name": "stdout",
     "output_type": "stream",
     "text": [
      "[5. 5. 5. 5. 5. 5. 5. 5. 5. 5.]\n"
     ]
    }
   ],
   "source": [
    "arr3 = np.ones(10)*5\n",
    "print(arr3)"
   ]
  },
  {
   "cell_type": "code",
   "execution_count": 8,
   "id": "c56b0afb-69ed-41ff-8eb9-60a75c96a04f",
   "metadata": {},
   "outputs": [
    {
     "name": "stdout",
     "output_type": "stream",
     "text": [
      "[10. 10. 10. 10. 10. 10. 10. 10. 10. 10.]\n"
     ]
    }
   ],
   "source": [
    "arr4 = np.ones(10)*10\n",
    "print(arr4)"
   ]
  },
  {
   "cell_type": "code",
   "execution_count": 9,
   "id": "9c30b9c9-cc26-41a4-b6ad-c6594c923db6",
   "metadata": {},
   "outputs": [
    {
     "name": "stdout",
     "output_type": "stream",
     "text": [
      "[20. 20. 20. 20. 20. 20. 20. 20. 20. 20.]\n"
     ]
    }
   ],
   "source": [
    "arr5 = np.ones(10)*20\n",
    "print(arr5)"
   ]
  },
  {
   "cell_type": "code",
   "execution_count": 10,
   "id": "34ffcaea-f7f4-4251-abdf-2d97a8f1f5ed",
   "metadata": {},
   "outputs": [
    {
     "name": "stdout",
     "output_type": "stream",
     "text": [
      "[50. 50. 50. 50. 50. 50. 50. 50. 50. 50.]\n"
     ]
    }
   ],
   "source": [
    "arr6 = np.ones(10)*50\n",
    "print(arr6)"
   ]
  },
  {
   "cell_type": "code",
   "execution_count": null,
   "id": "8223c3ef-e31c-489a-a88f-aa67e4d524f9",
   "metadata": {},
   "outputs": [],
   "source": []
  }
 ],
 "metadata": {
  "kernelspec": {
   "display_name": "Python 3 (ipykernel)",
   "language": "python",
   "name": "python3"
  },
  "language_info": {
   "codemirror_mode": {
    "name": "ipython",
    "version": 3
   },
   "file_extension": ".py",
   "mimetype": "text/x-python",
   "name": "python",
   "nbconvert_exporter": "python",
   "pygments_lexer": "ipython3",
   "version": "3.10.12"
  }
 },
 "nbformat": 4,
 "nbformat_minor": 5
}
